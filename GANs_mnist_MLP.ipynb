{
  "nbformat": 4,
  "nbformat_minor": 0,
  "metadata": {
    "colab": {
      "name": "GANs_mnist_MLP.ipynb",
      "provenance": [],
      "collapsed_sections": [],
      "authorship_tag": "ABX9TyPOavG2WWb2B+XlkiNUB2S+",
      "include_colab_link": true
    },
    "kernelspec": {
      "name": "python3",
      "display_name": "Python 3"
    },
    "language_info": {
      "name": "python"
    },
    "accelerator": "GPU",
    "widgets": {
      "application/vnd.jupyter.widget-state+json": {
        "5d31bea8e60a4423b30c64ab031d6d85": {
          "model_module": "@jupyter-widgets/controls",
          "model_name": "HBoxModel",
          "model_module_version": "1.5.0",
          "state": {
            "_view_name": "HBoxView",
            "_dom_classes": [],
            "_model_name": "HBoxModel",
            "_view_module": "@jupyter-widgets/controls",
            "_model_module_version": "1.5.0",
            "_view_count": null,
            "_view_module_version": "1.5.0",
            "box_style": "",
            "layout": "IPY_MODEL_0300d7d2c2064557860c0af3ff545f5b",
            "_model_module": "@jupyter-widgets/controls",
            "children": [
              "IPY_MODEL_d927c3c1444348aa81331793dbf07879",
              "IPY_MODEL_377250a351574c26b95aff7d2f503cf9",
              "IPY_MODEL_e572ce15236341b2834cc0f6812d34a0"
            ]
          }
        },
        "0300d7d2c2064557860c0af3ff545f5b": {
          "model_module": "@jupyter-widgets/base",
          "model_name": "LayoutModel",
          "model_module_version": "1.2.0",
          "state": {
            "_view_name": "LayoutView",
            "grid_template_rows": null,
            "right": null,
            "justify_content": null,
            "_view_module": "@jupyter-widgets/base",
            "overflow": null,
            "_model_module_version": "1.2.0",
            "_view_count": null,
            "flex_flow": null,
            "width": null,
            "min_width": null,
            "border": null,
            "align_items": null,
            "bottom": null,
            "_model_module": "@jupyter-widgets/base",
            "top": null,
            "grid_column": null,
            "overflow_y": null,
            "overflow_x": null,
            "grid_auto_flow": null,
            "grid_area": null,
            "grid_template_columns": null,
            "flex": null,
            "_model_name": "LayoutModel",
            "justify_items": null,
            "grid_row": null,
            "max_height": null,
            "align_content": null,
            "visibility": null,
            "align_self": null,
            "height": null,
            "min_height": null,
            "padding": null,
            "grid_auto_rows": null,
            "grid_gap": null,
            "max_width": null,
            "order": null,
            "_view_module_version": "1.2.0",
            "grid_template_areas": null,
            "object_position": null,
            "object_fit": null,
            "grid_auto_columns": null,
            "margin": null,
            "display": null,
            "left": null
          }
        },
        "d927c3c1444348aa81331793dbf07879": {
          "model_module": "@jupyter-widgets/controls",
          "model_name": "HTMLModel",
          "model_module_version": "1.5.0",
          "state": {
            "_view_name": "HTMLView",
            "style": "IPY_MODEL_20a24dd9ed614b8fa5907d2b17eed8ea",
            "_dom_classes": [],
            "description": "",
            "_model_name": "HTMLModel",
            "placeholder": "​",
            "_view_module": "@jupyter-widgets/controls",
            "_model_module_version": "1.5.0",
            "value": "100%",
            "_view_count": null,
            "_view_module_version": "1.5.0",
            "description_tooltip": null,
            "_model_module": "@jupyter-widgets/controls",
            "layout": "IPY_MODEL_dca25c99bdc14e1897811b1e0c467970"
          }
        },
        "377250a351574c26b95aff7d2f503cf9": {
          "model_module": "@jupyter-widgets/controls",
          "model_name": "FloatProgressModel",
          "model_module_version": "1.5.0",
          "state": {
            "_view_name": "ProgressView",
            "style": "IPY_MODEL_8620e20f940844499d00c30ac08bf3bd",
            "_dom_classes": [],
            "description": "",
            "_model_name": "FloatProgressModel",
            "bar_style": "success",
            "max": 40,
            "_view_module": "@jupyter-widgets/controls",
            "_model_module_version": "1.5.0",
            "value": 40,
            "_view_count": null,
            "_view_module_version": "1.5.0",
            "orientation": "horizontal",
            "min": 0,
            "description_tooltip": null,
            "_model_module": "@jupyter-widgets/controls",
            "layout": "IPY_MODEL_2b7bed04f52f4ac79328fd8ec887de8f"
          }
        },
        "e572ce15236341b2834cc0f6812d34a0": {
          "model_module": "@jupyter-widgets/controls",
          "model_name": "HTMLModel",
          "model_module_version": "1.5.0",
          "state": {
            "_view_name": "HTMLView",
            "style": "IPY_MODEL_4566db95d92446f6bce488a6fe339b22",
            "_dom_classes": [],
            "description": "",
            "_model_name": "HTMLModel",
            "placeholder": "​",
            "_view_module": "@jupyter-widgets/controls",
            "_model_module_version": "1.5.0",
            "value": " 40/40 [21:35&lt;00:00, 32.59s/it]",
            "_view_count": null,
            "_view_module_version": "1.5.0",
            "description_tooltip": null,
            "_model_module": "@jupyter-widgets/controls",
            "layout": "IPY_MODEL_e7262efd46a24d8997616b8d458151e3"
          }
        },
        "20a24dd9ed614b8fa5907d2b17eed8ea": {
          "model_module": "@jupyter-widgets/controls",
          "model_name": "DescriptionStyleModel",
          "model_module_version": "1.5.0",
          "state": {
            "_view_name": "StyleView",
            "_model_name": "DescriptionStyleModel",
            "description_width": "",
            "_view_module": "@jupyter-widgets/base",
            "_model_module_version": "1.5.0",
            "_view_count": null,
            "_view_module_version": "1.2.0",
            "_model_module": "@jupyter-widgets/controls"
          }
        },
        "dca25c99bdc14e1897811b1e0c467970": {
          "model_module": "@jupyter-widgets/base",
          "model_name": "LayoutModel",
          "model_module_version": "1.2.0",
          "state": {
            "_view_name": "LayoutView",
            "grid_template_rows": null,
            "right": null,
            "justify_content": null,
            "_view_module": "@jupyter-widgets/base",
            "overflow": null,
            "_model_module_version": "1.2.0",
            "_view_count": null,
            "flex_flow": null,
            "width": null,
            "min_width": null,
            "border": null,
            "align_items": null,
            "bottom": null,
            "_model_module": "@jupyter-widgets/base",
            "top": null,
            "grid_column": null,
            "overflow_y": null,
            "overflow_x": null,
            "grid_auto_flow": null,
            "grid_area": null,
            "grid_template_columns": null,
            "flex": null,
            "_model_name": "LayoutModel",
            "justify_items": null,
            "grid_row": null,
            "max_height": null,
            "align_content": null,
            "visibility": null,
            "align_self": null,
            "height": null,
            "min_height": null,
            "padding": null,
            "grid_auto_rows": null,
            "grid_gap": null,
            "max_width": null,
            "order": null,
            "_view_module_version": "1.2.0",
            "grid_template_areas": null,
            "object_position": null,
            "object_fit": null,
            "grid_auto_columns": null,
            "margin": null,
            "display": null,
            "left": null
          }
        },
        "8620e20f940844499d00c30ac08bf3bd": {
          "model_module": "@jupyter-widgets/controls",
          "model_name": "ProgressStyleModel",
          "model_module_version": "1.5.0",
          "state": {
            "_view_name": "StyleView",
            "_model_name": "ProgressStyleModel",
            "description_width": "",
            "_view_module": "@jupyter-widgets/base",
            "_model_module_version": "1.5.0",
            "_view_count": null,
            "_view_module_version": "1.2.0",
            "bar_color": null,
            "_model_module": "@jupyter-widgets/controls"
          }
        },
        "2b7bed04f52f4ac79328fd8ec887de8f": {
          "model_module": "@jupyter-widgets/base",
          "model_name": "LayoutModel",
          "model_module_version": "1.2.0",
          "state": {
            "_view_name": "LayoutView",
            "grid_template_rows": null,
            "right": null,
            "justify_content": null,
            "_view_module": "@jupyter-widgets/base",
            "overflow": null,
            "_model_module_version": "1.2.0",
            "_view_count": null,
            "flex_flow": null,
            "width": null,
            "min_width": null,
            "border": null,
            "align_items": null,
            "bottom": null,
            "_model_module": "@jupyter-widgets/base",
            "top": null,
            "grid_column": null,
            "overflow_y": null,
            "overflow_x": null,
            "grid_auto_flow": null,
            "grid_area": null,
            "grid_template_columns": null,
            "flex": null,
            "_model_name": "LayoutModel",
            "justify_items": null,
            "grid_row": null,
            "max_height": null,
            "align_content": null,
            "visibility": null,
            "align_self": null,
            "height": null,
            "min_height": null,
            "padding": null,
            "grid_auto_rows": null,
            "grid_gap": null,
            "max_width": null,
            "order": null,
            "_view_module_version": "1.2.0",
            "grid_template_areas": null,
            "object_position": null,
            "object_fit": null,
            "grid_auto_columns": null,
            "margin": null,
            "display": null,
            "left": null
          }
        },
        "4566db95d92446f6bce488a6fe339b22": {
          "model_module": "@jupyter-widgets/controls",
          "model_name": "DescriptionStyleModel",
          "model_module_version": "1.5.0",
          "state": {
            "_view_name": "StyleView",
            "_model_name": "DescriptionStyleModel",
            "description_width": "",
            "_view_module": "@jupyter-widgets/base",
            "_model_module_version": "1.5.0",
            "_view_count": null,
            "_view_module_version": "1.2.0",
            "_model_module": "@jupyter-widgets/controls"
          }
        },
        "e7262efd46a24d8997616b8d458151e3": {
          "model_module": "@jupyter-widgets/base",
          "model_name": "LayoutModel",
          "model_module_version": "1.2.0",
          "state": {
            "_view_name": "LayoutView",
            "grid_template_rows": null,
            "right": null,
            "justify_content": null,
            "_view_module": "@jupyter-widgets/base",
            "overflow": null,
            "_model_module_version": "1.2.0",
            "_view_count": null,
            "flex_flow": null,
            "width": null,
            "min_width": null,
            "border": null,
            "align_items": null,
            "bottom": null,
            "_model_module": "@jupyter-widgets/base",
            "top": null,
            "grid_column": null,
            "overflow_y": null,
            "overflow_x": null,
            "grid_auto_flow": null,
            "grid_area": null,
            "grid_template_columns": null,
            "flex": null,
            "_model_name": "LayoutModel",
            "justify_items": null,
            "grid_row": null,
            "max_height": null,
            "align_content": null,
            "visibility": null,
            "align_self": null,
            "height": null,
            "min_height": null,
            "padding": null,
            "grid_auto_rows": null,
            "grid_gap": null,
            "max_width": null,
            "order": null,
            "_view_module_version": "1.2.0",
            "grid_template_areas": null,
            "object_position": null,
            "object_fit": null,
            "grid_auto_columns": null,
            "margin": null,
            "display": null,
            "left": null
          }
        }
      }
    }
  },
  "cells": [
    {
      "cell_type": "markdown",
      "metadata": {
        "id": "view-in-github",
        "colab_type": "text"
      },
      "source": [
        "<a href=\"https://colab.research.google.com/github/huytranvan2010/GANs-Tutorial/blob/master/GANs_mnist_MLP.ipynb\" target=\"_parent\"><img src=\"https://colab.research.google.com/assets/colab-badge.svg\" alt=\"Open In Colab\"/></a>"
      ]
    },
    {
      "cell_type": "markdown",
      "metadata": {
        "id": "ICYlSiTm0zlJ"
      },
      "source": [
        "Trong bài này mình sẽ xây dựng mô hình GANs với tập dữ liệu MNIST. Ở đây chúng ta sẽ sử dụng MPL, trong bài sau chúng ta sẽ dùng kết hợp với Convolutional layer.\n",
        "\n",
        "Chúng ta sẽ đi xây dựng generator model và discriminator model. Sau đó sẽ kết hợp 2 model đó lại để tại thành GAN model, thông qua GAN model chúng ta sẽ train được generator model (do update weights của generator dựa trên performance của discriminator). \n",
        "\n",
        "Chúng ta sẽ train xen kẽ discriminator và genarotor. Khi train generator thông qua GAN model chúng ta phải freeze discriminator weights lại vì không muốn cập nhật weights của nó (generator chỉ nhờ discriminator đánh giá hộ ảnh nó tạo ra thôi)."
      ]
    },
    {
      "cell_type": "code",
      "metadata": {
        "colab": {
          "base_uri": "https://localhost:8080/"
        },
        "id": "kF0a2yGE0yG6",
        "outputId": "52e3f545-21c2-4ec3-9d0b-6d958baf560c"
      },
      "source": [
        "from tensorflow.keras.datasets import mnist\n",
        "from tensorflow.keras.utils import plot_model\n",
        "from tensorflow.keras.models import Sequential, Model\n",
        "from tensorflow.keras.layers import Input, Dense, Dropout, Activation, Flatten\n",
        "from keras.layers.advanced_activations import LeakyReLU\n",
        "from tensorflow.keras.optimizers import Adam\n",
        "import numpy as np\n",
        "import matplotlib.pyplot as plt\n",
        "import random\n",
        "from tqdm import tqdm_notebook\n",
        "\n",
        "# Load và kiểm tra data\n",
        "(X_train, Y_train), (X_test, Y_test) = mnist.load_data()\n",
        "print(\"Shape x_train: \", X_train.shape, \"Shape Y_train: \", Y_train.shape)\n",
        "print(\"Shape x_train: \", X_test.shape, \"Shape Y_train: \", Y_test.shape)"
      ],
      "execution_count": 14,
      "outputs": [
        {
          "output_type": "stream",
          "name": "stdout",
          "text": [
            "Shape x_train:  (60000, 28, 28) Shape Y_train:  (60000,)\n",
            "Shape x_train:  (10000, 28, 28) Shape Y_train:  (10000,)\n"
          ]
        }
      ]
    },
    {
      "cell_type": "markdown",
      "metadata": {
        "id": "d2uMPgJn4xFx"
      },
      "source": [
        "### Hiển thị dữ liệu"
      ]
    },
    {
      "cell_type": "code",
      "metadata": {
        "colab": {
          "base_uri": "https://localhost:8080/",
          "height": 248
        },
        "id": "SGzB0pbL4z1B",
        "outputId": "2ce4a8ff-4183-4b4f-b529-bc9b68018d6c"
      },
      "source": [
        "n = 5\n",
        "for i in range(n * n):\n",
        "    plt.subplot(n, n, i + 1)\n",
        "    plt.axis('off')\n",
        "    plt.imshow(X_train[i], cmap='gray_r')   # hiển thị ở matplotlib thì chỉ cần 2 kích thước width và height\n",
        "plt.show()\n"
      ],
      "execution_count": 15,
      "outputs": [
        {
          "output_type": "display_data",
          "data": {
            "image/png": "[encoded data removed]",
            "text/plain": [
              "<Figure size 432x288 with 25 Axes>"
            ]
          },
          "metadata": {
            "needs_background": "light"
          }
        }
      ]
    },
    {
      "cell_type": "markdown",
      "metadata": {
        "id": "nCo5nfHa4K7_"
      },
      "source": [
        "### Tiền xử lý dữ liệu\n",
        "Chúng ta reshape lại, mỗi ảnh thành thành 1 vector 784 chiều, **chuyển về float do đang ở unsigned integer**, rescale về [0,1] (có thể rescale về [-1, 1] cũng được, **chú ý activation function cũng thay đổi theo).**"
      ]
    },
    {
      "cell_type": "code",
      "metadata": {
        "id": "jcxOTMUP0NhD"
      },
      "source": [
        "X_train = X_train.reshape(60000, 784)\n",
        "X_test = X_test.reshape(10000, 784)\n",
        "\n",
        "X_train = X_train.astype('float32')/255\n",
        "X_test = X_test.astype('float32')/255"
      ],
      "execution_count": 16,
      "outputs": []
    },
    {
      "cell_type": "markdown",
      "metadata": {
        "id": "cmgzD1M65cAB"
      },
      "source": [
        "# Một số cài đặt\n",
        "- Latent space: lấy vetor có chiều 100\n",
        "- Optimizer: Adam với learning rate 0.0002, beta_1 = 0.5"
      ]
    },
    {
      "cell_type": "code",
      "metadata": {
        "colab": {
          "base_uri": "https://localhost:8080/"
        },
        "id": "vSvb8R6Q5nyB",
        "outputId": "11bf86af-8b21-493d-eec1-d66ab854f3d2"
      },
      "source": [
        "# Số chiều của noise trong latent space\n",
        "z_dim = 100\n",
        "\n",
        "# Optimizer\n",
        "opt = Adam(lr=0.0002, beta_1=0.5)"
      ],
      "execution_count": 17,
      "outputs": [
        {
          "output_type": "stream",
          "name": "stderr",
          "text": [
            "/usr/local/lib/python3.7/dist-packages/keras/optimizer_v2/optimizer_v2.py:356: UserWarning: The `lr` argument is deprecated, use `learning_rate` instead.\n",
            "  \"The `lr` argument is deprecated, use `learning_rate` instead.\")\n"
          ]
        }
      ]
    },
    {
      "cell_type": "markdown",
      "metadata": {
        "id": "NUsWp_9l53rr"
      },
      "source": [
        "Xây dựng **generator model**, chúng ta có số lượng units của các hidden layers lần lượt là 256, 512, 1024, 784. Output layer có số units là 784 do nó được dùng làm đầu vào của discriminator. Discriminator cũng nhận ảnh từ MNIST dataset, sau khi duỗi ra là vector có 784 chiều."
      ]
    },
    {
      "cell_type": "code",
      "metadata": {
        "id": "ZlkIXZdQ5202"
      },
      "source": [
        "g = Sequential()\n",
        "# Dense thì chúng ta dùng input_dim và nhập vào số chiều, khác với Conv2D cần input_shape và cần dạng tuple\n",
        "g.add(Dense(256, input_dim=z_dim, activation=LeakyReLU(alpha=0.2)))\n",
        "\n",
        "g.add(Dense(512, activation=LeakyReLU(alpha=0.2)))\n",
        "\n",
        "g.add(Dense(1024, activation=LeakyReLU(alpha=0.2)))\n",
        "\n",
        "g.add(Dense(784, activation='sigmoid'))  # Để output nằm trong [0, 1] phù hợp với MNIST đã chuẩn hóa, tí còn cho vào discriminaor\n",
        "\n",
        "g.compile(loss='binary_crossentropy', optimizer=opt, metrics=['acc'])  # ko cần compile chỗ này cũng được vì train theo compisite model"
      ],
      "execution_count": 18,
      "outputs": []
    },
    {
      "cell_type": "markdown",
      "metadata": {
        "id": "jJwYK7hu7yEG"
      },
      "source": [
        "Xây dựng **discriminator model**"
      ]
    },
    {
      "cell_type": "code",
      "metadata": {
        "id": "l1HSmCY67fTi"
      },
      "source": [
        "d = Sequential()\n",
        "# input_dim nha (ko phải input_shape)\n",
        "d.add(Dense(1024, input_dim=784, activation=LeakyReLU(alpha=0.2)))\n",
        "\n",
        "d.add(Dropout(0.3))\n",
        "\n",
        "d.add(Dense(512, activation=LeakyReLU(alpha=0.2)))\n",
        "\n",
        "d.add(Dropout(0.3))\n",
        "\n",
        "d.add(Dense(256, activation=LeakyReLU(alpha=0.2)))\n",
        "\n",
        "d.add(Dropout(0.3))\n",
        "\n",
        "d.add(Dense(1, activation='sigmoid'))  # Bài toán phân loại\n",
        "\n",
        "d.compile(loss='binary_crossentropy', optimizer=opt, metrics=['acc'])\n"
      ],
      "execution_count": 19,
      "outputs": []
    },
    {
      "cell_type": "markdown",
      "metadata": {
        "id": "gtDTb_h18k9h"
      },
      "source": [
        "Xây dựng GAN model, gộp bởi generator và discriminator. Chúng ta dùng GAN mdoel để train generator."
      ]
    },
    {
      "cell_type": "code",
      "metadata": {
        "id": "AW0uVngA8r1Q"
      },
      "source": [
        "# NÊN KHỞI TẠO CÁC MODEL TRONG HÀM CHO DỄ QUẢN LÝ\n",
        "d.trainable = False     # khi train generator thông qua GAN model thì freeze discriminator lại\n",
        "\n",
        "# Định nghĩa input \n",
        "input = Input(shape=(z_dim, ))     # Input layer thì lại là shape\n",
        "\n",
        "hidden = g(input)      # đi qua generator model\n",
        "\n",
        "output = d(hidden)      # đầu ra của generator model đi qua discriminator\n",
        "\n",
        "gan = Model(inputs=input, outputs=output)\n",
        "\n",
        "gan.compile(loss='binary_crossentropy', optimizer=opt, metrics=['acc'])\n",
        "# thực chất ở đây mới cần compile model, ở trên generator không cần compile model."
      ],
      "execution_count": 20,
      "outputs": []
    },
    {
      "cell_type": "markdown",
      "metadata": {
        "id": "NgKvq6uC9yTD"
      },
      "source": [
        "## Tạo một số hàm phụ trợ"
      ]
    },
    {
      "cell_type": "code",
      "metadata": {
        "id": "ejKe6eWH906T"
      },
      "source": [
        "# Hiển thị loss của discriminator và generator\n",
        "def plot_loss(losses):\n",
        "    \"\"\"\n",
        "    @losses.keys():\n",
        "        0: loss\n",
        "        1: accuracy\n",
        "    \"\"\"\n",
        "    d_loss = [v[0] for v in losses[\"D\"]]\n",
        "    g_loss = [v[0] for v in losses[\"G\"]]\n",
        "    #d_acc = [v[1] for v in losses[\"D\"]]\n",
        "    #g_acc = [v[1] for v in losses[\"G\"]]\n",
        "    \n",
        "    plt.figure(figsize=(10,8))\n",
        "    plt.plot(d_loss, label=\"Discriminator loss\")\n",
        "    plt.plot(g_loss, label=\"Generator loss\")\n",
        "    #plt.plot(d_acc, label=\"Discriminator accuracy\")\n",
        "    #plt.plot(g_acc, label=\"Generator accuracy\")\n",
        "    plt.xlabel('Epochs')\n",
        "    plt.ylabel('Loss')\n",
        "    plt.legend()\n",
        "    plt.show()"
      ],
      "execution_count": 21,
      "outputs": []
    },
    {
      "cell_type": "code",
      "metadata": {
        "id": "HNYgebjMBKGH"
      },
      "source": [
        "# hiển thị ảnh được tạo ra từ generator\n",
        "def plot_generated(n_ex = 10, dim = (1, 10), figsize = (12, 2)):    # in ra 10 examples\n",
        "    noise = np.random.randn(n_ex, z_dim)\n",
        "    generated_images = g.predict(noise)\n",
        "    generated_images = generated_images.reshape(n_ex, 28, 28)   # reshape để hiển thị trên matplotlib\n",
        "\n",
        "    plt.figure(figsize=figsize)\n",
        "    for i in range(generated_images.shape[0]):\n",
        "        plt.subplot(dim[0], dim[1], i+1)\n",
        "        plt.imshow(generated_images[i], interpolation='nearest', cmap='gray_r')\n",
        "        plt.axis('off')\n",
        "    plt.tight_layout()\n",
        "    plt.show()"
      ],
      "execution_count": 22,
      "outputs": []
    },
    {
      "cell_type": "markdown",
      "metadata": {
        "id": "JZzHo8jbCCEo"
      },
      "source": [
        "## Train models"
      ]
    },
    {
      "cell_type": "code",
      "metadata": {
        "id": "tDubkzRnCBX8"
      },
      "source": [
        "# dict để lưu loss của discriminator và generator\n",
        "losses = {\"D\":[], \"G\":[]}\n",
        "\n",
        "def train(epochs = 1, plt_frq = 1, BATCH_SIZE = 128):   # plt_frq tần suất vẽ hình\n",
        "    # số batches trong mỗi epoch\n",
        "    batchCount = X_train.shape[0] // BATCH_SIZE\n",
        "    print('Epochs:', epochs)\n",
        "    print('Batch size:', BATCH_SIZE)\n",
        "    print('Batches per epoch:', batchCount)\n",
        "    \n",
        "    for i in tqdm_notebook(range(1, epochs+1)):     # để hiển thị thêm thì bao tqdm_notebook quanh iterators\n",
        "        if i == 1 or i % plt_frq == 0:\n",
        "            print('-'*15, 'Epoch %d' % i, '-'*15)\n",
        "        for _ in range(batchCount):  # tqdm_notebook(range(batchCount), leave=False):\n",
        "            # UPDATE cho discriminator\n",
        "            # Lấy ngẫu nhiên ảnh từ MNIST dataset (real samples)\n",
        "            X_real = X_train[np.random.randint(0, X_train.shape[0], size=BATCH_SIZE)]\n",
        "            # gán nhãn cho data từ MNIST\n",
        "            y_real = np.ones((BATCH_SIZE, 1)) - 0.1     # để label = 0.9 smoothing label\n",
        "\n",
        "            # Tạo points (noise) trong latent space\n",
        "            noise = np.random.randn(BATCH_SIZE, z_dim)  # ở đây ko cần để dạng tuple\n",
        "            # generated images từ points đi qua generator (fake samples)\n",
        "            X_fake = g.predict(noise)\n",
        "            y_fake = np.zeros((BATCH_SIZE, 1))      # để 2d-array, nếu để mỗi BATCH_SIZE thì stack theo horizontal\n",
        "\n",
        "            # Nối lại real samples + fake samples\n",
        "            X = np.vstack((X_real, X_fake))\n",
        "            y = np.vstack((y_real, y_fake))\n",
        "\n",
        "            # Train discriminator on generated images (fake sample) + real samples\n",
        "            d.trainable = True  # cập nhật weights của discriminator\n",
        "            d_loss = d.train_on_batch(X, y)     # train trên collection of data nào đó, chỗ này trả về list of loss và metric, ko có metric khi compile thì trả về loss\n",
        "\n",
        "            # Nếu mình không tạo các model trong hàm sẽ không phải set lại d.trainable như này, đến bài sau sẽ rõ hơn\n",
        "            # Train generator\n",
        "            X_gan = np.random.randn(BATCH_SIZE, z_dim)\n",
        "            y_gan = np.ones((BATCH_SIZE, 1))\n",
        "            d.trainable = False     # ko cập nhật wieghts của discriminator, nếu đưa vào hàm thì freeze rồi ko cần quan tâm\n",
        "            g_loss = gan.train_on_batch(X_gan, y_gan)   # ở đây cũng trả về list loss và metric, nếu ko có metric khi compile thì trả về loss\n",
        "\n",
        "        # lưu loss cuối mỗi epoch\n",
        "        losses[\"D\"].append(d_loss)\n",
        "        losses[\"G\"].append(g_loss)\n",
        "\n",
        "        # Hiển thị các số được sinh ra để kiểm tra\n",
        "        if i == 1 or i % plt_frq == 0:\n",
        "            plot_generated()\n",
        "\n",
        "    plot_loss(losses)   # vẽ loss"
      ],
      "execution_count": 25,
      "outputs": []
    },
    {
      "cell_type": "code",
      "metadata": {
        "colab": {
          "base_uri": "https://localhost:8080/",
          "height": 954,
          "referenced_widgets": [
            "5d31bea8e60a4423b30c64ab031d6d85",
            "0300d7d2c2064557860c0af3ff545f5b",
            "d927c3c1444348aa81331793dbf07879",
            "377250a351574c26b95aff7d2f503cf9",
            "e572ce15236341b2834cc0f6812d34a0",
            "20a24dd9ed614b8fa5907d2b17eed8ea",
            "dca25c99bdc14e1897811b1e0c467970",
            "8620e20f940844499d00c30ac08bf3bd",
            "2b7bed04f52f4ac79328fd8ec887de8f",
            "4566db95d92446f6bce488a6fe339b22",
            "e7262efd46a24d8997616b8d458151e3"
          ]
        },
        "id": "WFzDdwguH9Pg",
        "outputId": "e12e4e9e-0427-4d54-99fd-d09663b2de2f"
      },
      "source": [
        "# Train GAN model\n",
        "train(epochs=40, plt_frq=20, BATCH_SIZE=128)"
      ],
      "execution_count": 26,
      "outputs": [
        {
          "output_type": "stream",
          "name": "stdout",
          "text": [
            "Epochs: 40\n",
            "Batch size: 128\n",
            "Batches per epoch: 468\n"
          ]
        },
        {
          "output_type": "stream",
          "name": "stderr",
          "text": [
            "/usr/local/lib/python3.7/dist-packages/ipykernel_launcher.py:11: TqdmDeprecationWarning: This function will be removed in tqdm==5.0.0\n",
            "Please use `tqdm.notebook.tqdm` instead of `tqdm.tqdm_notebook`\n",
            "  # This is added back by InteractiveShellApp.init_path()\n"
          ]
        },
        {
          "output_type": "display_data",
          "data": {
            "application/vnd.jupyter.widget-view+json": {
              "model_id": "5d31bea8e60a4423b30c64ab031d6d85",
              "version_minor": 0,
              "version_major": 2
            },
            "text/plain": [
              "  0%|          | 0/40 [00:00<?, ?it/s]"
            ]
          },
          "metadata": {}
        },
        {
          "output_type": "stream",
          "name": "stdout",
          "text": [
            "--------------- Epoch 1 ---------------\n"
          ]
        },
        {
          "output_type": "display_data",
          "data": {
            "image/png": "[encoded data removed]",
            "text/plain": [
              "<Figure size 864x144 with 10 Axes>"
            ]
          },
          "metadata": {
            "needs_background": "light"
          }
        },
        {
          "output_type": "stream",
          "name": "stdout",
          "text": [
            "--------------- Epoch 20 ---------------\n"
          ]
        },
        {
          "output_type": "display_data",
          "data": {
            "image/png": "[encoded data removed]",
            "text/plain": [
              "<Figure size 864x144 with 10 Axes>"
            ]
          },
          "metadata": {
            "needs_background": "light"
          }
        },
        {
          "output_type": "stream",
          "name": "stdout",
          "text": [
            "--------------- Epoch 40 ---------------\n"
          ]
        },
        {
          "output_type": "display_data",
          "data": {
            "image/png": "[encoded data removed]",
            "text/plain": [
              "<Figure size 864x144 with 10 Axes>"
            ]
          },
          "metadata": {
            "needs_background": "light"
          }
        },
        {
          "output_type": "display_data",
          "data": {
            "image/png": "[encoded data removed]",
            "text/plain": [
              "<Figure size 720x576 with 1 Axes>"
            ]
          },
          "metadata": {
            "needs_background": "light"
          }
        }
      ]
    }
  ]
}